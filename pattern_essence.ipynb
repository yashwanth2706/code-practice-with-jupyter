{
  "nbformat": 4,
  "nbformat_minor": 0,
  "metadata": {
    "colab": {
      "provenance": []
    },
    "kernelspec": {
      "name": "python3",
      "display_name": "Python 3"
    },
    "language_info": {
      "name": "python"
    }
  },
  "cells": [
    {
      "cell_type": "markdown",
      "source": [
        "Understanding the behaviour of python's print function"
      ],
      "metadata": {
        "id": "U-xw6RW0fS_2"
      }
    },
    {
      "cell_type": "code",
      "source": [
        "print(\"Hello\", end=\"\")\n",
        "print(\"World\")"
      ],
      "metadata": {
        "colab": {
          "base_uri": "https://localhost:8080/"
        },
        "id": "qTt6ylTTWzVT",
        "outputId": "1d65547f-5750-4689-a89c-3557fe826ba8"
      },
      "execution_count": 68,
      "outputs": [
        {
          "output_type": "stream",
          "name": "stdout",
          "text": [
            "HelloWorld\n"
          ]
        }
      ]
    },
    {
      "cell_type": "code",
      "source": [
        "print(\"Hello\", end=\" \")\n",
        "print(\"World\")"
      ],
      "metadata": {
        "colab": {
          "base_uri": "https://localhost:8080/"
        },
        "id": "UZLhdsbPfphL",
        "outputId": "9073bcb9-bbdc-470c-c70c-4bfeee1a0169"
      },
      "execution_count": 69,
      "outputs": [
        {
          "output_type": "stream",
          "name": "stdout",
          "text": [
            "Hello World\n"
          ]
        }
      ]
    },
    {
      "cell_type": "code",
      "source": [
        "print(\"Hello\")\n",
        "print()      # same as new line '\\n'\n",
        "print(\"World\")"
      ],
      "metadata": {
        "colab": {
          "base_uri": "https://localhost:8080/"
        },
        "id": "IFlxmsynf4-4",
        "outputId": "4385defd-6059-4780-fddd-8f3785067924"
      },
      "execution_count": 70,
      "outputs": [
        {
          "output_type": "stream",
          "name": "stdout",
          "text": [
            "Hello\n",
            "\n",
            "World\n"
          ]
        }
      ]
    },
    {
      "cell_type": "markdown",
      "source": [
        "Visualizing the matrix grid of two nested for loops for better context and understanding"
      ],
      "metadata": {
        "id": "xZIHDj7cgIYg"
      }
    },
    {
      "cell_type": "code",
      "execution_count": 71,
      "metadata": {
        "colab": {
          "base_uri": "https://localhost:8080/"
        },
        "id": "MikHTtG8LgD6",
        "outputId": "2f8f9bbf-f7f6-4c99-c4d7-669f4c963ac0"
      },
      "outputs": [
        {
          "output_type": "stream",
          "name": "stdout",
          "text": [
            "[0, 0][0, 1][0, 2][0, 3][0, 4][0, 5][0, 6][0, 7][0, 8][0, 9]\n",
            "[1, 0][1, 1][1, 2][1, 3][1, 4][1, 5][1, 6][1, 7][1, 8][1, 9]\n",
            "[2, 0][2, 1][2, 2][2, 3][2, 4][2, 5][2, 6][2, 7][2, 8][2, 9]\n",
            "[3, 0][3, 1][3, 2][3, 3][3, 4][3, 5][3, 6][3, 7][3, 8][3, 9]\n",
            "[4, 0][4, 1][4, 2][4, 3][4, 4][4, 5][4, 6][4, 7][4, 8][4, 9]\n",
            "[5, 0][5, 1][5, 2][5, 3][5, 4][5, 5][5, 6][5, 7][5, 8][5, 9]\n",
            "[6, 0][6, 1][6, 2][6, 3][6, 4][6, 5][6, 6][6, 7][6, 8][6, 9]\n",
            "[7, 0][7, 1][7, 2][7, 3][7, 4][7, 5][7, 6][7, 7][7, 8][7, 9]\n",
            "[8, 0][8, 1][8, 2][8, 3][8, 4][8, 5][8, 6][8, 7][8, 8][8, 9]\n",
            "[9, 0][9, 1][9, 2][9, 3][9, 4][9, 5][9, 6][9, 7][9, 8][9, 9]\n"
          ]
        }
      ],
      "source": [
        "for row in range(0, 10):\n",
        "  for col in range(0,10):\n",
        "    print([row, col], end=\"\")\n",
        "  print()"
      ]
    },
    {
      "cell_type": "markdown",
      "source": [
        "Developing logic based on the matrix rows, columns observation"
      ],
      "metadata": {
        "id": "lSovWr6vgTML"
      }
    },
    {
      "cell_type": "code",
      "source": [
        "for row in range(0, 5):\n",
        "  for col in range(0,5):\n",
        "    if row+col < 4:\n",
        "      print(\" \", end=\"\")\n",
        "    else:\n",
        "      print(\".\", end=\"\")\n",
        "  print()"
      ],
      "metadata": {
        "colab": {
          "base_uri": "https://localhost:8080/"
        },
        "id": "M4zhOP78Lnlz",
        "outputId": "a7af93b3-260b-4ea8-eb3f-7868941d14c1"
      },
      "execution_count": 72,
      "outputs": [
        {
          "output_type": "stream",
          "name": "stdout",
          "text": [
            "    .\n",
            "   ..\n",
            "  ...\n",
            " ....\n",
            ".....\n"
          ]
        }
      ]
    },
    {
      "cell_type": "code",
      "source": [
        "def pattern(n):\n",
        "  for row in range(0, n):\n",
        "    for col in range(0,n):\n",
        "      if row+col < n-1:\n",
        "        print(\" \", end=\" \")\n",
        "      else:\n",
        "        print(\".\", end=\" \")\n",
        "    print()\n",
        "pattern(10)"
      ],
      "metadata": {
        "colab": {
          "base_uri": "https://localhost:8080/"
        },
        "id": "VjsPmVP9QNj-",
        "outputId": "5f21ba8c-ad44-47ea-b23a-411928164f47"
      },
      "execution_count": 73,
      "outputs": [
        {
          "output_type": "stream",
          "name": "stdout",
          "text": [
            "                  . \n",
            "                . . \n",
            "              . . . \n",
            "            . . . . \n",
            "          . . . . . \n",
            "        . . . . . . \n",
            "      . . . . . . . \n",
            "    . . . . . . . . \n",
            "  . . . . . . . . . \n",
            ". . . . . . . . . . \n"
          ]
        }
      ]
    },
    {
      "cell_type": "code",
      "source": [
        "def pattern(n):\n",
        "  for row in range(0, n):\n",
        "    for col in range(0,n):\n",
        "      if row+col > n-1:\n",
        "        print(\" \", end=\" \")\n",
        "      else:\n",
        "        print(\".\", end=\" \")\n",
        "    print()\n",
        "pattern(10)"
      ],
      "metadata": {
        "colab": {
          "base_uri": "https://localhost:8080/"
        },
        "id": "lD4QGSwNQQc3",
        "outputId": "475ac76d-0a57-4435-a4be-a1a797370576"
      },
      "execution_count": 74,
      "outputs": [
        {
          "output_type": "stream",
          "name": "stdout",
          "text": [
            ". . . . . . . . . . \n",
            ". . . . . . . . .   \n",
            ". . . . . . . .     \n",
            ". . . . . . .       \n",
            ". . . . . .         \n",
            ". . . . .           \n",
            ". . . .             \n",
            ". . .               \n",
            ". .                 \n",
            ".                   \n"
          ]
        }
      ]
    },
    {
      "cell_type": "code",
      "source": [
        "def pattern(n):\n",
        "  for row in range(0, n):\n",
        "    for col in range(0,n):\n",
        "      if row>col:\n",
        "        print(\".\", end=\" \")\n",
        "    print()\n",
        "pattern(10)"
      ],
      "metadata": {
        "colab": {
          "base_uri": "https://localhost:8080/"
        },
        "id": "a60J7_rzQSw5",
        "outputId": "224efb6e-4f16-48bd-f27d-32be94d353aa"
      },
      "execution_count": 75,
      "outputs": [
        {
          "output_type": "stream",
          "name": "stdout",
          "text": [
            "\n",
            ". \n",
            ". . \n",
            ". . . \n",
            ". . . . \n",
            ". . . . . \n",
            ". . . . . . \n",
            ". . . . . . . \n",
            ". . . . . . . . \n",
            ". . . . . . . . . \n"
          ]
        }
      ]
    },
    {
      "cell_type": "code",
      "source": [
        "def pattern(n):\n",
        "  for row in range(0, n):\n",
        "    for col in range(0,n):\n",
        "      if row<col:\n",
        "        print(\".\", end=\" \")\n",
        "    print()\n",
        "pattern(10)"
      ],
      "metadata": {
        "colab": {
          "base_uri": "https://localhost:8080/"
        },
        "id": "jdbFOPx9QV1I",
        "outputId": "e1d883a5-a10f-4ca2-b377-5e56cd4f3e26"
      },
      "execution_count": 76,
      "outputs": [
        {
          "output_type": "stream",
          "name": "stdout",
          "text": [
            ". . . . . . . . . \n",
            ". . . . . . . . \n",
            ". . . . . . . \n",
            ". . . . . . \n",
            ". . . . . \n",
            ". . . . \n",
            ". . . \n",
            ". . \n",
            ". \n",
            "\n"
          ]
        }
      ]
    },
    {
      "cell_type": "code",
      "source": [
        "def pattern(n):\n",
        "  for row in range(0, n):\n",
        "    for col in range(0,n):\n",
        "      if row+col < n-1:\n",
        "        print(\" \", end=\"\")\n",
        "      else:\n",
        "        print(\".\", end=\" \")\n",
        "    print()\n",
        "pattern(10)"
      ],
      "metadata": {
        "colab": {
          "base_uri": "https://localhost:8080/"
        },
        "id": "6zRobGhrQXz9",
        "outputId": "538ad137-5866-4266-de46-5376a7d3805d"
      },
      "execution_count": 77,
      "outputs": [
        {
          "output_type": "stream",
          "name": "stdout",
          "text": [
            "         . \n",
            "        . . \n",
            "       . . . \n",
            "      . . . . \n",
            "     . . . . . \n",
            "    . . . . . . \n",
            "   . . . . . . . \n",
            "  . . . . . . . . \n",
            " . . . . . . . . . \n",
            ". . . . . . . . . . \n"
          ]
        }
      ]
    },
    {
      "cell_type": "code",
      "source": [
        "def pattern(n):\n",
        "  for row in range(0, n):\n",
        "    for col in range(0,n):\n",
        "      if col < row:\n",
        "        print(\" \", end=\"\")\n",
        "      else:\n",
        "        print(\".\", end=\" \")\n",
        "    print()\n",
        "pattern(10)"
      ],
      "metadata": {
        "colab": {
          "base_uri": "https://localhost:8080/"
        },
        "id": "JAcVYcBzQZ-z",
        "outputId": "a1657b91-4572-4964-90a2-d49494d6e4d6"
      },
      "execution_count": 78,
      "outputs": [
        {
          "output_type": "stream",
          "name": "stdout",
          "text": [
            ". . . . . . . . . . \n",
            " . . . . . . . . . \n",
            "  . . . . . . . . \n",
            "   . . . . . . . \n",
            "    . . . . . . \n",
            "     . . . . . \n",
            "      . . . . \n",
            "       . . . \n",
            "        . . \n",
            "         . \n"
          ]
        }
      ]
    },
    {
      "cell_type": "code",
      "source": [
        "def pattern(n):\n",
        "  for row in range(0, n):\n",
        "    for col in range(0,n):\n",
        "      if row+col < n-1:\n",
        "        print(\" \", end=\"\")\n",
        "      else:\n",
        "        print(\".\", end=\" \")\n",
        "    print()\n",
        "  for row in range(1, n):    # Start from row 1 to skip the extra print\n",
        "    for col in range(0, n):\n",
        "      if col < row:\n",
        "        print(\" \", end=\"\")\n",
        "      else:\n",
        "        print(\".\", end=\" \")\n",
        "    print()\n",
        "pattern(10)"
      ],
      "metadata": {
        "colab": {
          "base_uri": "https://localhost:8080/"
        },
        "id": "t5KOQhrbQcIV",
        "outputId": "68767e74-1204-4371-fe1d-0dabd598d37c"
      },
      "execution_count": 79,
      "outputs": [
        {
          "output_type": "stream",
          "name": "stdout",
          "text": [
            "         . \n",
            "        . . \n",
            "       . . . \n",
            "      . . . . \n",
            "     . . . . . \n",
            "    . . . . . . \n",
            "   . . . . . . . \n",
            "  . . . . . . . . \n",
            " . . . . . . . . . \n",
            ". . . . . . . . . . \n",
            " . . . . . . . . . \n",
            "  . . . . . . . . \n",
            "   . . . . . . . \n",
            "    . . . . . . \n",
            "     . . . . . \n",
            "      . . . . \n",
            "       . . . \n",
            "        . . \n",
            "         . \n"
          ]
        }
      ]
    },
    {
      "cell_type": "code",
      "source": [],
      "metadata": {
        "id": "yPBIvfAoiNAP"
      },
      "execution_count": null,
      "outputs": []
    }
  ]
}