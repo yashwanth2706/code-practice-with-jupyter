{
  "nbformat": 4,
  "nbformat_minor": 0,
  "metadata": {
    "colab": {
      "provenance": []
    },
    "kernelspec": {
      "name": "python3",
      "display_name": "Python 3"
    },
    "language_info": {
      "name": "python"
    }
  },
  "cells": [
    {
      "cell_type": "markdown",
      "source": [
        "Understanding the behaviour of python's print function"
      ],
      "metadata": {
        "id": "U-xw6RW0fS_2"
      }
    },
    {
      "cell_type": "code",
      "source": [
        "print(\"Hello\", end=\"\")\n",
        "print(\"World\")"
      ],
      "metadata": {
        "colab": {
          "base_uri": "https://localhost:8080/"
        },
        "id": "qTt6ylTTWzVT",
        "outputId": "c6e0819d-69a6-491a-cbe6-f35fb3ec3943"
      },
      "execution_count": 65,
      "outputs": [
        {
          "output_type": "stream",
          "name": "stdout",
          "text": [
            "HelloWorld\n"
          ]
        }
      ]
    },
    {
      "cell_type": "code",
      "source": [
        "print(\"Hello\", end=\" \")\n",
        "print(\"World\")"
      ],
      "metadata": {
        "colab": {
          "base_uri": "https://localhost:8080/"
        },
        "id": "UZLhdsbPfphL",
        "outputId": "a718430f-c51d-41fa-9b23-bcf533e495c1"
      },
      "execution_count": 66,
      "outputs": [
        {
          "output_type": "stream",
          "name": "stdout",
          "text": [
            "Hello World\n"
          ]
        }
      ]
    },
    {
      "cell_type": "code",
      "source": [
        "print(\"Hello\")\n",
        "print()      # same as new line '\\n'\n",
        "print(\"World\")"
      ],
      "metadata": {
        "colab": {
          "base_uri": "https://localhost:8080/"
        },
        "id": "IFlxmsynf4-4",
        "outputId": "dd766702-2093-458a-e8cb-8f7074d15356"
      },
      "execution_count": 67,
      "outputs": [
        {
          "output_type": "stream",
          "name": "stdout",
          "text": [
            "Hello\n",
            "\n",
            "World\n"
          ]
        }
      ]
    },
    {
      "cell_type": "markdown",
      "source": [
        "Visualizing the matrix grid of two nested for loops for better context and understanding"
      ],
      "metadata": {
        "id": "xZIHDj7cgIYg"
      }
    },
    {
      "cell_type": "code",
      "execution_count": 1,
      "metadata": {
        "colab": {
          "base_uri": "https://localhost:8080/"
        },
        "id": "MikHTtG8LgD6",
        "outputId": "ca8c166f-fa45-4dc6-8891-03f36c56ae03"
      },
      "outputs": [
        {
          "output_type": "stream",
          "name": "stdout",
          "text": [
            "[0, 0][0, 1][0, 2][0, 3][0, 4][0, 5][0, 6][0, 7][0, 8][0, 9]\n",
            "[1, 0][1, 1][1, 2][1, 3][1, 4][1, 5][1, 6][1, 7][1, 8][1, 9]\n",
            "[2, 0][2, 1][2, 2][2, 3][2, 4][2, 5][2, 6][2, 7][2, 8][2, 9]\n",
            "[3, 0][3, 1][3, 2][3, 3][3, 4][3, 5][3, 6][3, 7][3, 8][3, 9]\n",
            "[4, 0][4, 1][4, 2][4, 3][4, 4][4, 5][4, 6][4, 7][4, 8][4, 9]\n",
            "[5, 0][5, 1][5, 2][5, 3][5, 4][5, 5][5, 6][5, 7][5, 8][5, 9]\n",
            "[6, 0][6, 1][6, 2][6, 3][6, 4][6, 5][6, 6][6, 7][6, 8][6, 9]\n",
            "[7, 0][7, 1][7, 2][7, 3][7, 4][7, 5][7, 6][7, 7][7, 8][7, 9]\n",
            "[8, 0][8, 1][8, 2][8, 3][8, 4][8, 5][8, 6][8, 7][8, 8][8, 9]\n",
            "[9, 0][9, 1][9, 2][9, 3][9, 4][9, 5][9, 6][9, 7][9, 8][9, 9]\n"
          ]
        }
      ],
      "source": [
        "for row in range(0, 10):\n",
        "  for col in range(0,10):\n",
        "    print([row, col], end=\"\")\n",
        "  print()"
      ]
    },
    {
      "cell_type": "markdown",
      "source": [
        "Developing logic based on the matrix rows, columns observation"
      ],
      "metadata": {
        "id": "lSovWr6vgTML"
      }
    },
    {
      "cell_type": "code",
      "source": [
        "for row in range(0, 5):\n",
        "  for col in range(0,5):\n",
        "    if row+col < 4:\n",
        "      print(\" \", end=\"\")\n",
        "    else:\n",
        "      print(\".\", end=\"\")\n",
        "  print()"
      ],
      "metadata": {
        "colab": {
          "base_uri": "https://localhost:8080/"
        },
        "id": "M4zhOP78Lnlz",
        "outputId": "d89ebdd9-1b06-4a02-a882-6ef02f5b8972"
      },
      "execution_count": 45,
      "outputs": [
        {
          "output_type": "stream",
          "name": "stdout",
          "text": [
            "    .\n",
            "   ..\n",
            "  ...\n",
            " ....\n",
            ".....\n"
          ]
        }
      ]
    },
    {
      "cell_type": "code",
      "source": [
        "def pattern(n):\n",
        "  for row in range(0, n):\n",
        "    for col in range(0,n):\n",
        "      if row+col < n-1:\n",
        "        print(\" \", end=\" \")\n",
        "      else:\n",
        "        print(\".\", end=\" \")\n",
        "    print()\n",
        "pattern(10)"
      ],
      "metadata": {
        "colab": {
          "base_uri": "https://localhost:8080/"
        },
        "id": "VjsPmVP9QNj-",
        "outputId": "d3c5d5ed-d8fc-4fc4-ad7f-39a2b3f5b422"
      },
      "execution_count": 46,
      "outputs": [
        {
          "output_type": "stream",
          "name": "stdout",
          "text": [
            "                  . \n",
            "                . . \n",
            "              . . . \n",
            "            . . . . \n",
            "          . . . . . \n",
            "        . . . . . . \n",
            "      . . . . . . . \n",
            "    . . . . . . . . \n",
            "  . . . . . . . . . \n",
            ". . . . . . . . . . \n"
          ]
        }
      ]
    },
    {
      "cell_type": "code",
      "source": [
        "def pattern(n):\n",
        "  for row in range(0, n):\n",
        "    for col in range(0,n):\n",
        "      if row+col > n-1:\n",
        "        print(\" \", end=\" \")\n",
        "      else:\n",
        "        print(\".\", end=\" \")\n",
        "    print()\n",
        "pattern(10)"
      ],
      "metadata": {
        "colab": {
          "base_uri": "https://localhost:8080/"
        },
        "id": "lD4QGSwNQQc3",
        "outputId": "9a1fd059-5050-4e07-ce21-66879b102ac9"
      },
      "execution_count": 47,
      "outputs": [
        {
          "output_type": "stream",
          "name": "stdout",
          "text": [
            ". . . . . . . . . . \n",
            ". . . . . . . . .   \n",
            ". . . . . . . .     \n",
            ". . . . . . .       \n",
            ". . . . . .         \n",
            ". . . . .           \n",
            ". . . .             \n",
            ". . .               \n",
            ". .                 \n",
            ".                   \n"
          ]
        }
      ]
    },
    {
      "cell_type": "code",
      "source": [
        "def pattern(n):\n",
        "  for row in range(0, n):\n",
        "    for col in range(0,n):\n",
        "      if row>col:\n",
        "        print(\".\", end=\" \")\n",
        "    print()\n",
        "pattern(10)"
      ],
      "metadata": {
        "colab": {
          "base_uri": "https://localhost:8080/"
        },
        "id": "a60J7_rzQSw5",
        "outputId": "16dba722-0e83-4d95-ae15-4341a19213a1"
      },
      "execution_count": 48,
      "outputs": [
        {
          "output_type": "stream",
          "name": "stdout",
          "text": [
            "\n",
            ". \n",
            ". . \n",
            ". . . \n",
            ". . . . \n",
            ". . . . . \n",
            ". . . . . . \n",
            ". . . . . . . \n",
            ". . . . . . . . \n",
            ". . . . . . . . . \n"
          ]
        }
      ]
    },
    {
      "cell_type": "code",
      "source": [
        "def pattern(n):\n",
        "  for row in range(0, n):\n",
        "    for col in range(0,n):\n",
        "      if row<col:\n",
        "        print(\".\", end=\" \")\n",
        "    print()\n",
        "pattern(10)"
      ],
      "metadata": {
        "colab": {
          "base_uri": "https://localhost:8080/"
        },
        "id": "jdbFOPx9QV1I",
        "outputId": "d5d1560e-9455-4652-fea8-2066f3ece291"
      },
      "execution_count": 49,
      "outputs": [
        {
          "output_type": "stream",
          "name": "stdout",
          "text": [
            ". . . . . . . . . \n",
            ". . . . . . . . \n",
            ". . . . . . . \n",
            ". . . . . . \n",
            ". . . . . \n",
            ". . . . \n",
            ". . . \n",
            ". . \n",
            ". \n",
            "\n"
          ]
        }
      ]
    },
    {
      "cell_type": "code",
      "source": [
        "def pattern(n):\n",
        "  for row in range(0, n):\n",
        "    for col in range(0,n):\n",
        "      if row+col < n-1:\n",
        "        print(\" \", end=\"\")\n",
        "      else:\n",
        "        print(\".\", end=\" \")\n",
        "    print()\n",
        "pattern(10)"
      ],
      "metadata": {
        "colab": {
          "base_uri": "https://localhost:8080/"
        },
        "id": "6zRobGhrQXz9",
        "outputId": "123987e0-942b-4957-f716-696fcf50e645"
      },
      "execution_count": 50,
      "outputs": [
        {
          "output_type": "stream",
          "name": "stdout",
          "text": [
            "         . \n",
            "        . . \n",
            "       . . . \n",
            "      . . . . \n",
            "     . . . . . \n",
            "    . . . . . . \n",
            "   . . . . . . . \n",
            "  . . . . . . . . \n",
            " . . . . . . . . . \n",
            ". . . . . . . . . . \n"
          ]
        }
      ]
    },
    {
      "cell_type": "code",
      "source": [
        "def pattern(n):\n",
        "  for row in range(0, n):\n",
        "    for col in range(0,n):\n",
        "      if col < row:\n",
        "        print(\" \", end=\"\")\n",
        "      else:\n",
        "        print(\".\", end=\" \")\n",
        "    print()\n",
        "pattern(10)"
      ],
      "metadata": {
        "colab": {
          "base_uri": "https://localhost:8080/"
        },
        "id": "JAcVYcBzQZ-z",
        "outputId": "9171c7b3-4c7e-4ede-a26e-52535936ff5f"
      },
      "execution_count": 51,
      "outputs": [
        {
          "output_type": "stream",
          "name": "stdout",
          "text": [
            ". . . . . . . . . . \n",
            " . . . . . . . . . \n",
            "  . . . . . . . . \n",
            "   . . . . . . . \n",
            "    . . . . . . \n",
            "     . . . . . \n",
            "      . . . . \n",
            "       . . . \n",
            "        . . \n",
            "         . \n"
          ]
        }
      ]
    },
    {
      "cell_type": "code",
      "source": [
        "def pattern(n):\n",
        "  for row in range(0, n):\n",
        "    for col in range(0,n):\n",
        "      if row+col < n-1:\n",
        "        print(\" \", end=\"\")\n",
        "      else:\n",
        "        print(\".\", end=\" \")\n",
        "    print()\n",
        "  for row in range(1, n):    # Start from row 1 to skip the extra print\n",
        "    for col in range(0, n):\n",
        "      if col < row:\n",
        "        print(\" \", end=\"\")\n",
        "      else:\n",
        "        print(\".\", end=\" \")\n",
        "    print()\n",
        "pattern(10)"
      ],
      "metadata": {
        "colab": {
          "base_uri": "https://localhost:8080/"
        },
        "id": "t5KOQhrbQcIV",
        "outputId": "b33c08ec-5849-4a4d-e7f5-1d7b42039e11"
      },
      "execution_count": 56,
      "outputs": [
        {
          "output_type": "stream",
          "name": "stdout",
          "text": [
            "         . \n",
            "        . . \n",
            "       . . . \n",
            "      . . . . \n",
            "     . . . . . \n",
            "    . . . . . . \n",
            "   . . . . . . . \n",
            "  . . . . . . . . \n",
            " . . . . . . . . . \n",
            ". . . . . . . . . . \n",
            " . . . . . . . . . \n",
            "  . . . . . . . . \n",
            "   . . . . . . . \n",
            "    . . . . . . \n",
            "     . . . . . \n",
            "      . . . . \n",
            "       . . . \n",
            "        . . \n",
            "         . \n"
          ]
        }
      ]
    }
  ]
}